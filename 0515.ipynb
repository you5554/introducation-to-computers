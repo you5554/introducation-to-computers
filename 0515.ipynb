{
  "nbformat": 4,
  "nbformat_minor": 0,
  "metadata": {
    "colab": {
      "provenance": [],
      "authorship_tag": "ABX9TyO/VRHIw+4sQ0vy6ovIbunH",
      "include_colab_link": true
    },
    "kernelspec": {
      "name": "python3",
      "display_name": "Python 3"
    },
    "language_info": {
      "name": "python"
    }
  },
  "cells": [
    {
      "cell_type": "markdown",
      "metadata": {
        "id": "view-in-github",
        "colab_type": "text"
      },
      "source": [
        "<a href=\"https://colab.research.google.com/github/you5554/introducation-to-computers/blob/main/0515.ipynb\" target=\"_parent\"><img src=\"https://colab.research.google.com/assets/colab-badge.svg\" alt=\"Open In Colab\"/></a>"
      ]
    },
    {
      "cell_type": "code",
      "execution_count": null,
      "metadata": {
        "colab": {
          "base_uri": "https://localhost:8080/"
        },
        "id": "8kN6ykxFRSC1",
        "outputId": "13835712-e28d-4396-f035-79b05581a590"
      },
      "outputs": [
        {
          "output_type": "stream",
          "name": "stdout",
          "text": [
            "0515\n"
          ]
        }
      ],
      "source": [
        "print(\"0515\")"
      ]
    },
    {
      "cell_type": "code",
      "source": [
        "rain=str(input(\"今天會下雨嗎?\"))\n",
        "if rain==\"y\" or rain==\"Y\" :\n",
        "   print(\"出門記得帶傘\")\n",
        "elif rain==\"n\" or rain==\"N\" :\n",
        "   print(\"不用帶傘\")\n",
        "else :\n",
        "   print(\"請重新輸入\")"
      ],
      "metadata": {
        "colab": {
          "base_uri": "https://localhost:8080/"
        },
        "id": "9FLdA252Nz7v",
        "outputId": "0076d191-3e08-4421-f4ca-ddd47473bf3b"
      },
      "execution_count": null,
      "outputs": [
        {
          "output_type": "stream",
          "name": "stdout",
          "text": [
            "今天會下雨嗎?e\n",
            "請重新輸入\n"
          ]
        }
      ]
    },
    {
      "cell_type": "code",
      "source": [
        "t=float(input(\"請輸入體溫\"))\n",
        "if t>=37.5:\n",
        "   print(\"體溫過高!\")\n",
        "elif 37.4>=t>37:\n",
        "   print(\"體溫略高!\")\n",
        "elif 34<t<=36.9:\n",
        "   print(\"體溫正常!\")\n",
        "else:\n",
        "   print(\"體溫異常，請重新測量!\")"
      ],
      "metadata": {
        "colab": {
          "base_uri": "https://localhost:8080/"
        },
        "id": "kMt-w8cOPRhQ",
        "outputId": "25f7b631-0d17-418d-9e88-e453f235bc45"
      },
      "execution_count": null,
      "outputs": [
        {
          "output_type": "stream",
          "name": "stdout",
          "text": [
            "請輸入體溫20\n",
            "體溫異常，請重新測量!\n"
          ]
        }
      ]
    },
    {
      "cell_type": "code",
      "source": [
        "s=int(input(\"請輸入成績\"))\n",
        "if s>=90:\n",
        "   print(\"A\")\n",
        "elif 80>=s>=89:\n",
        "   print(\"B\")\n",
        "elif 70>=s>=79:\n",
        "   print(\"C\")\n",
        "elif 69>=s>=60:\n",
        "   print(\"D\")\n",
        "elif s<60:\n",
        "   print(\"E\")"
      ],
      "metadata": {
        "colab": {
          "base_uri": "https://localhost:8080/"
        },
        "id": "bSJkqFQGRlpz",
        "outputId": "f35bdf6c-b7f4-4e87-f927-16447e7550b3"
      },
      "execution_count": null,
      "outputs": [
        {
          "output_type": "stream",
          "name": "stdout",
          "text": [
            "請輸入成績0\n",
            "E\n"
          ]
        }
      ]
    },
    {
      "cell_type": "code",
      "source": [
        "\n",
        "sechi=int(input(\"請輸入月份\"))\n",
        "if 3<=sechi<=5:\n",
        "   print(sechi,\"月是春天!\")\n",
        "elif 6<=sechi<=8:\n",
        "   print(sechi,\"月是夏天!\")\n",
        "elif 9<=sechi<=11:\n",
        "   print(sechi,\"月是秋天!\")\n",
        "elif 12<=sechi<=2:\n",
        "   print(sechi,\"月是冬天!\")\n",
        "else:   \n",
        "   print(sechi,\"月份不在范圍內!\")"
      ],
      "metadata": {
        "colab": {
          "base_uri": "https://localhost:8080/"
        },
        "id": "NxSlLGMeTA4V",
        "outputId": "876d508f-5de6-4ac3-b4b8-f76846a64487"
      },
      "execution_count": null,
      "outputs": [
        {
          "output_type": "stream",
          "name": "stdout",
          "text": [
            "請輸入月份100\n",
            "100 月份不在范圍內!\n"
          ]
        }
      ]
    },
    {
      "cell_type": "code",
      "source": [
        "income=int(input(\"請輸入今年收入淨額\"))\n",
        "if income>=2000000:   \n",
        "   print(\"付稅金額:\",income*0.3,\"元\")\n",
        "elif 1000000<=income<2000000:   \n",
        "   print(\"付稅金額:\",income*0.21,\"元\")\n",
        "elif 600000<=income<1000000:   \n",
        "   print(\"付稅金額:\",income*0.13,\"元\")\n",
        "elif 300000<=income<600000:   \n",
        "   print(\"付稅金額:\",income*0.06,\"元\")\n",
        "else:\n",
        "   print(\"付稅金額:0元\")"
      ],
      "metadata": {
        "colab": {
          "base_uri": "https://localhost:8080/"
        },
        "id": "W6KxA6npVTCD",
        "outputId": "bcbc6c69-8436-4d18-9937-3f83bf622c04"
      },
      "execution_count": null,
      "outputs": [
        {
          "output_type": "stream",
          "name": "stdout",
          "text": [
            "請輸入今年收入淨額88888888888\n",
            "付稅金額: 26666666666.399998 元\n"
          ]
        }
      ]
    }
  ]
}